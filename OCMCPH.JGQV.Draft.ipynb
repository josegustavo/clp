{
  "cells": [
    {
      "cell_type": "markdown",
      "metadata": {},
      "source": [
        "# Introducción\n",
        "\n",
        "En el comercio internacional, el transporte de mercancías se realiza principalmente a través de contenedores de carga. Los contenedores son cajas de acero de forma rectangular que se utilizan para transportar mercancías en barcos, trenes y camiones. Los contenedores son una forma eficiente y segura de transportar mercancías, ya que permiten que las mercancías se carguen y descarguen rápidamente y se almacenen de manera segura durante el viaje. Los contenedores vienen en diferentes tamaños y capacidades, y se utilizan para transportar una amplia variedad de mercancías, incluyendo productos manufacturados, materias primas, alimentos, etc. Para un buen aprovechamiento del espacio y la capacidad de carga de los contenedores, es importante que las mercancías se carguen de manera eficiente y se aproveche al máximo el espacio disponible.\n",
        "\n",
        "En muchos casos, estas mercancías se encuentran en cajas o paquetes de diferentes tamaños, formas y pesos. Optimizar la colocación de dichos paquetes en los contenedores es un problema importante en la industria de la logística y el transporte ya que puede tener un impacto significativo en los costos y la eficiencia de la cadena de suministro. Por otro lado el mejor aprovechamiento del espacio y la capacidad de carga de los contenedores puede ayudar a reducir el número de viajes necesarios para transportar las mercancías, lo que puede reducir los costos de transporte y las emisiones de carbono asociadas.\n",
        "\n",
        "El problema de la carga de paquetes en contenedores es un problema de optimización combinatoria que ha sido ampliamente estudiado en la literatura. Así mismo, problemas similares se pueden observar en distintas industrias, como la carga de paquetes en camiones, carga de pallets, carga en almacenes, entre otros, donde la colocación de cajas dentro de otras cajas más grandes es una tarea que se realiza con frecuencia. La carga de contenedores consiste en colocar paquetes de diferentes tamaños y formas en un contenedor de manera que se maximice la utilización del espacio y se cumplan ciertas restricciones de peso y estabilidad. Este problema ha sido clasificado como NP-duro, lo que significa que muchas veces para instancias grandes de paquetes no existe un algoritmo de tiempo polinomial que pueda resolverlo de manera exacta. Por ello, muchos autores han propuesto diferentes enfoques heurísticos y metaheurísticos para resolver este problema de manera aproximada.\n",
        "\n",
        "Existen diferentes variantes del problema de la carga de contenedores con paquetes, dependiendo de las restricciones y objetivos específicos que se consideren. Algunas de las variantes más estudiadas incluyen el uso de paquetes homogéneos, paquetes heterogéneos, paquetes rotativos, paquetes frágiles, entre otros. En este trabajo, nos enfocaremos en restricciones derivadas de un caso de uso real que se da cuando la carga es realizada por uno o varios operadores humanos, es decir una carga manual, cuyo principal objetivo es facilitar el proceso de la carga poniendo énfasis en las limitaciones que un operador humano pueda tener. Para esto se considera el uso de paquetes de baja heterogeneidad, que consiste en grupos de paquetes que comparten ciertas características, como el tamaño, el peso, el costo, etc. También consideraremos restricciones de rotación, que indican que los paquetes pueden ser girados en ciertas direcciones para aprovechar mejor el espacio disponible y restricciones de contigüidad, que indican que los paquetes del mismo grupo deben ser cargados de manera contigua.\n",
        "\n",
        "En este trabajo, se propone una metaheurística basada en el algoritmo genético para resolver el problema de la carga manual de contenedores con paquetes heterogéneos. El algoritmo genético es una técnica de optimización que se basa en la evolución biológica y que ha sido ampliamente utilizada para resolver problemas de optimización combinatoria. El algoritmo genético es un enfoque de búsqueda poblacional que mantiene una población de soluciones candidatas y utiliza operadores genéticos como la selección, el cruce y la mutación para generar nuevas soluciones a partir de las soluciones existentes. El algoritmo genético es un enfoque flexible y versátil que ha demostrado ser efectivo para resolver una amplia variedad de problemas de optimización combinatoria.\n",
        "\n",
        "También se propone una heurística personalizada para el procedimiento de carga, cuya metodología y restricciones se definen considerando que son operadores humanos los que realizarán la tarea de carga. Esto implica establecer un orden secuencial para la carga de cada paquete del mismo tipo, de forma contigua y sin obstruir el acceso a otros paquetes. Asimismo, se considerará una única posibilidad de rotación para un grupo de paquetes del mismo tipo con el objetivo de evitar complicaciones durante el proceso de carga.\n",
        "\n",
        "El resto de este trabajo está organizado de la siguiente manera. En la sección 2, se presenta una revisión de la literatura relacionada con el problema de la carga de contenedores y sus variantes. En la sección 3, se presenta la definición del problema en particular. En la sección 4, se describe la metaheurística y heurística propuesta para resolver el problema. En la sección 5, se presenta un estudio computacional para evaluar el desempeño con diferentes configuraciones. Finalmente, en la sección 6, se presentan las conclusiones y las direcciones futuras de investigación.\n"
      ]
    },
    {
      "cell_type": "markdown",
      "metadata": {},
      "source": [
        "# Revision de la literatura\n",
        "\n",
        "- Problemas de optimización combinatoria\n",
        "    - Knapsack Problem\n",
        "    - Cutting Stock Problem\n",
        "    - 3D Bin Packing Problem\n",
        "    - Container Loading Problem\n",
        "\n",
        "- Algoritmos heurísticos\n",
        "- Algoritmos metaheurísticos\n",
        "    - Algoritmos genéticos\n",
        "\n",
        "- Estado del arte"
      ]
    },
    {
      "cell_type": "markdown",
      "metadata": {},
      "source": [
        "# Formulación del problema"
      ]
    },
    {
      "cell_type": "markdown",
      "metadata": {},
      "source": [
        "## Definición del problema\n",
        "\n",
        "Siendo un contenedor de ancho $W$, largo $L$, alto $H$, y una capacidad de carga $P$, \n",
        "se tiene definido unos tipos de paquetes $t \\in T = \\{1, 2, 3, \\ldots, n\\}$, donde cada tipo $t$ posee ciertas dimensiones de ancho $w_t$, largo $l_t$, alto $h_t$, también posee un peso $p_t$ y un costo $c_t$, además se conoce la cantidad máxima de paquetes por cada tipo $q_t$ que un contenedor puede tener.\n",
        "En este problema, consideramos que $W$, $L$, $H$ y $P$ , $w_t$, $l_t$, $h_t$, $p_t$, $q_t$ son enteros positivos.\n",
        "Se tienen restricciones de rotación debido al enfoque de carga manual, en el cual se establece que $\\forall r \\in r_t, r \\in \\{0, 1\\}, t \\in T$ donde $0$ representa que el tipo no se encuentra girado y $1$ que el tipo está girado 90 grados en el eje $x$, lo que implica que los anchos y largos pueden intercambiarse, mientras que la altura no puede ser modificada. \n",
        "Por otro lado para facilitar la carga manual, se debe disponer de un orden donde cada paquete del mismo tipo debe ser cargado de manera contigua. \n",
        "El problema consiste en determinar la cantidad de paquetes por cada tipo a cargar $\\tilde{q}_t$ (la cual no puede superar al máximo establecido por tipo, $0 \\leq \\tilde{q}_t \\leq q_t$) y el orden de carga de cada tipo $o_t$ con determinada rotación $r_t$, de tal modo que se pueda obtener la disposición óptima de los paquetes en el contenedor, asegurando el cumplimiento de las restricciones relacionadas al espacio disponible y el peso. Además, se busca maximizar la utilización del espacio del contenedor y al mismo tiempo el costo de la carga."
      ]
    },
    {
      "cell_type": "markdown",
      "metadata": {},
      "source": [
        "## Restricciones en la carga de contenedores\n",
        "\n",
        "-  Relacionadas al contenedor\n",
        "\n",
        "    -  Límites de peso y volumen\n",
        "\n",
        "    -  Distribución del peso en el contenedor\n",
        "\n",
        "-  Restricciones de los paquetes\n",
        "\n",
        "    -  Prioridad en la carga\n",
        "\n",
        "    -  Restricciones de orientación\n",
        "\n",
        "    -  Restricciones de apilamiento\n",
        "\n",
        "-  Restricciones relacionadas a la carga\n",
        "\n",
        "    -  Restricciones de envío completo\n",
        "\n",
        "    -  Restricciones de colocación\n",
        "\n",
        "    -  Restricciones de posicionamiento\n",
        "\n",
        "-  Load-related constraints\n",
        "\n",
        "    -  Restricciones de estabilidad\n",
        "\n",
        "    - Restricciones de complejidad\n",
        "\n"
      ]
    },
    {
      "cell_type": "markdown",
      "metadata": {},
      "source": [
        "Heurística de colocación de paquetes\n",
        "\n"
      ]
    },
    {
      "cell_type": "markdown",
      "metadata": {},
      "source": [
        "# Metaheurística"
      ]
    },
    {
      "cell_type": "markdown",
      "metadata": {},
      "source": [
        "Se propone una metaheurística basada en el algoritmo genético para resolver el problema de la carga manual de contenedores con paquetes heterogéneos."
      ]
    },
    {
      "cell_type": "markdown",
      "metadata": {},
      "source": [
        "## Representación de la solución\n",
        "\n",
        "### Codificación de la solución\n",
        "\n"
      ]
    },
    {
      "cell_type": "markdown",
      "metadata": {},
      "source": [
        "## Heurística de carga manual"
      ]
    },
    {
      "cell_type": "markdown",
      "metadata": {},
      "source": [
        "### Orden de carga\n",
        "\n",
        "### Restricciones de rotación\n",
        "\n",
        "### Restricciones de contigüidad\n",
        "\n",
        "### Restricciones de coordenadas"
      ]
    },
    {
      "cell_type": "markdown",
      "metadata": {},
      "source": [
        "## Operadores genéticos\n",
        "\n",
        "### Selección\n",
        "\n",
        "### Cruce\n",
        "\n",
        "### Mutación\n"
      ]
    },
    {
      "cell_type": "markdown",
      "metadata": {},
      "source": [
        "## Función de evaluación"
      ]
    },
    {
      "cell_type": "markdown",
      "metadata": {},
      "source": [
        "# Estudio computacional"
      ]
    },
    {
      "cell_type": "markdown",
      "metadata": {},
      "source": [
        "## Generación de datos de prueba\n",
        "\n",
        "## Diseños de los experimentos\n",
        "\n",
        "## Resultados\n"
      ]
    },
    {
      "cell_type": "markdown",
      "metadata": {},
      "source": [
        "# Conclusiones"
      ]
    },
    {
      "cell_type": "markdown",
      "metadata": {},
      "source": [
        "# Referencias"
      ]
    }
  ],
  "metadata": {
    "authors": [
      {
        "name": "draft"
      }
    ],
    "kernelspec": {
      "display_name": "base",
      "language": "python",
      "name": "python3"
    },
    "language_info": {
      "name": "python",
      "version": "3.10.13"
    },
    "title": "Optimización de la carga manual de contenedores con paquetes heterogéneos"
  },
  "nbformat": 4,
  "nbformat_minor": 2
}
