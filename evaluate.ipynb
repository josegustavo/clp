{
 "cells": [
  {
   "cell_type": "code",
   "execution_count": 1,
   "metadata": {},
   "outputs": [
    {
     "name": "stdout",
     "output_type": "stream",
     "text": [
      "Cantidad de problemas a resolver: 200\n"
     ]
    },
    {
     "name": "stderr",
     "output_type": "stream",
     "text": [
      "Process SpawnProcess-1:\n",
      "Traceback (most recent call last):\n",
      "  File \"/opt/homebrew/Cellar/python@3.12/3.12.3/Frameworks/Python.framework/Versions/3.12/lib/python3.12/multiprocessing/process.py\", line 314, in _bootstrap\n",
      "    self.run()\n",
      "  File \"/opt/homebrew/Cellar/python@3.12/3.12.3/Frameworks/Python.framework/Versions/3.12/lib/python3.12/multiprocessing/process.py\", line 108, in run\n",
      "    self._target(*self._args, **self._kwargs)\n",
      "  File \"/opt/homebrew/Cellar/python@3.12/3.12.3/Frameworks/Python.framework/Versions/3.12/lib/python3.12/concurrent/futures/process.py\", line 251, in _process_worker\n",
      "    call_item = call_queue.get(block=True)\n",
      "                ^^^^^^^^^^^^^^^^^^^^^^^^^^\n",
      "  File \"/opt/homebrew/Cellar/python@3.12/3.12.3/Frameworks/Python.framework/Versions/3.12/lib/python3.12/multiprocessing/queues.py\", line 122, in get\n",
      "    return _ForkingPickler.loads(res)\n",
      "           ^^^^^^^^^^^^^^^^^^^^^^^^^^\n",
      "AttributeError: Can't get attribute 'solve' on <module '__main__' (<class '_frozen_importlib.BuiltinImporter'>)>\n"
     ]
    },
    {
     "ename": "BrokenProcessPool",
     "evalue": "A process in the process pool was terminated abruptly while the future was running or pending.",
     "output_type": "error",
     "traceback": [
      "\u001b[0;31m---------------------------------------------------------------------------\u001b[0m",
      "\u001b[0;31mBrokenProcessPool\u001b[0m                         Traceback (most recent call last)",
      "Cell \u001b[0;32mIn[1], line 48\u001b[0m\n\u001b[1;32m     45\u001b[0m \u001b[38;5;28mprint\u001b[39m(\u001b[38;5;124m\"\u001b[39m\u001b[38;5;124mCantidad de problemas a resolver: \u001b[39m\u001b[38;5;132;01m%s\u001b[39;00m\u001b[38;5;124m\"\u001b[39m \u001b[38;5;241m%\u001b[39m \u001b[38;5;28mlen\u001b[39m(args))\n\u001b[1;32m     46\u001b[0m results \u001b[38;5;241m=\u001b[39m executor\u001b[38;5;241m.\u001b[39mmap(solve, args)\n\u001b[0;32m---> 48\u001b[0m \u001b[43m\u001b[49m\u001b[38;5;28;43;01mfor\u001b[39;49;00m\u001b[43m \u001b[49m\u001b[43mresult\u001b[49m\u001b[43m \u001b[49m\u001b[38;5;129;43;01min\u001b[39;49;00m\u001b[43m \u001b[49m\u001b[43mresults\u001b[49m\u001b[43m:\u001b[49m\n\u001b[1;32m     49\u001b[0m \u001b[43m    \u001b[49m\u001b[38;5;28;43mprint\u001b[39;49m\u001b[43m(\u001b[49m\u001b[43mresult\u001b[49m\u001b[43m)\u001b[49m\n",
      "File \u001b[0;32m/opt/homebrew/Cellar/python@3.12/3.12.3/Frameworks/Python.framework/Versions/3.12/lib/python3.12/concurrent/futures/process.py:642\u001b[0m, in \u001b[0;36m_chain_from_iterable_of_lists\u001b[0;34m(iterable)\u001b[0m\n\u001b[1;32m    636\u001b[0m \u001b[38;5;28;01mdef\u001b[39;00m \u001b[38;5;21m_chain_from_iterable_of_lists\u001b[39m(iterable):\n\u001b[1;32m    637\u001b[0m \u001b[38;5;250m    \u001b[39m\u001b[38;5;124;03m\"\"\"\u001b[39;00m\n\u001b[1;32m    638\u001b[0m \u001b[38;5;124;03m    Specialized implementation of itertools.chain.from_iterable.\u001b[39;00m\n\u001b[1;32m    639\u001b[0m \u001b[38;5;124;03m    Each item in *iterable* should be a list.  This function is\u001b[39;00m\n\u001b[1;32m    640\u001b[0m \u001b[38;5;124;03m    careful not to keep references to yielded objects.\u001b[39;00m\n\u001b[1;32m    641\u001b[0m \u001b[38;5;124;03m    \"\"\"\u001b[39;00m\n\u001b[0;32m--> 642\u001b[0m \u001b[43m    \u001b[49m\u001b[38;5;28;43;01mfor\u001b[39;49;00m\u001b[43m \u001b[49m\u001b[43melement\u001b[49m\u001b[43m \u001b[49m\u001b[38;5;129;43;01min\u001b[39;49;00m\u001b[43m \u001b[49m\u001b[43miterable\u001b[49m\u001b[43m:\u001b[49m\n\u001b[1;32m    643\u001b[0m \u001b[43m        \u001b[49m\u001b[43melement\u001b[49m\u001b[38;5;241;43m.\u001b[39;49m\u001b[43mreverse\u001b[49m\u001b[43m(\u001b[49m\u001b[43m)\u001b[49m\n\u001b[1;32m    644\u001b[0m \u001b[43m        \u001b[49m\u001b[38;5;28;43;01mwhile\u001b[39;49;00m\u001b[43m \u001b[49m\u001b[43melement\u001b[49m\u001b[43m:\u001b[49m\n",
      "File \u001b[0;32m/opt/homebrew/Cellar/python@3.12/3.12.3/Frameworks/Python.framework/Versions/3.12/lib/python3.12/concurrent/futures/_base.py:619\u001b[0m, in \u001b[0;36mExecutor.map.<locals>.result_iterator\u001b[0;34m()\u001b[0m\n\u001b[1;32m    616\u001b[0m \u001b[38;5;28;01mwhile\u001b[39;00m fs:\n\u001b[1;32m    617\u001b[0m     \u001b[38;5;66;03m# Careful not to keep a reference to the popped future\u001b[39;00m\n\u001b[1;32m    618\u001b[0m     \u001b[38;5;28;01mif\u001b[39;00m timeout \u001b[38;5;129;01mis\u001b[39;00m \u001b[38;5;28;01mNone\u001b[39;00m:\n\u001b[0;32m--> 619\u001b[0m         \u001b[38;5;28;01myield\u001b[39;00m \u001b[43m_result_or_cancel\u001b[49m\u001b[43m(\u001b[49m\u001b[43mfs\u001b[49m\u001b[38;5;241;43m.\u001b[39;49m\u001b[43mpop\u001b[49m\u001b[43m(\u001b[49m\u001b[43m)\u001b[49m\u001b[43m)\u001b[49m\n\u001b[1;32m    620\u001b[0m     \u001b[38;5;28;01melse\u001b[39;00m:\n\u001b[1;32m    621\u001b[0m         \u001b[38;5;28;01myield\u001b[39;00m _result_or_cancel(fs\u001b[38;5;241m.\u001b[39mpop(), end_time \u001b[38;5;241m-\u001b[39m time\u001b[38;5;241m.\u001b[39mmonotonic())\n",
      "File \u001b[0;32m/opt/homebrew/Cellar/python@3.12/3.12.3/Frameworks/Python.framework/Versions/3.12/lib/python3.12/concurrent/futures/_base.py:317\u001b[0m, in \u001b[0;36m_result_or_cancel\u001b[0;34m(***failed resolving arguments***)\u001b[0m\n\u001b[1;32m    315\u001b[0m \u001b[38;5;28;01mtry\u001b[39;00m:\n\u001b[1;32m    316\u001b[0m     \u001b[38;5;28;01mtry\u001b[39;00m:\n\u001b[0;32m--> 317\u001b[0m         \u001b[38;5;28;01mreturn\u001b[39;00m \u001b[43mfut\u001b[49m\u001b[38;5;241;43m.\u001b[39;49m\u001b[43mresult\u001b[49m\u001b[43m(\u001b[49m\u001b[43mtimeout\u001b[49m\u001b[43m)\u001b[49m\n\u001b[1;32m    318\u001b[0m     \u001b[38;5;28;01mfinally\u001b[39;00m:\n\u001b[1;32m    319\u001b[0m         fut\u001b[38;5;241m.\u001b[39mcancel()\n",
      "File \u001b[0;32m/opt/homebrew/Cellar/python@3.12/3.12.3/Frameworks/Python.framework/Versions/3.12/lib/python3.12/concurrent/futures/_base.py:456\u001b[0m, in \u001b[0;36mFuture.result\u001b[0;34m(self, timeout)\u001b[0m\n\u001b[1;32m    454\u001b[0m     \u001b[38;5;28;01mraise\u001b[39;00m CancelledError()\n\u001b[1;32m    455\u001b[0m \u001b[38;5;28;01melif\u001b[39;00m \u001b[38;5;28mself\u001b[39m\u001b[38;5;241m.\u001b[39m_state \u001b[38;5;241m==\u001b[39m FINISHED:\n\u001b[0;32m--> 456\u001b[0m     \u001b[38;5;28;01mreturn\u001b[39;00m \u001b[38;5;28;43mself\u001b[39;49m\u001b[38;5;241;43m.\u001b[39;49m\u001b[43m__get_result\u001b[49m\u001b[43m(\u001b[49m\u001b[43m)\u001b[49m\n\u001b[1;32m    457\u001b[0m \u001b[38;5;28;01melse\u001b[39;00m:\n\u001b[1;32m    458\u001b[0m     \u001b[38;5;28;01mraise\u001b[39;00m \u001b[38;5;167;01mTimeoutError\u001b[39;00m()\n",
      "File \u001b[0;32m/opt/homebrew/Cellar/python@3.12/3.12.3/Frameworks/Python.framework/Versions/3.12/lib/python3.12/concurrent/futures/_base.py:401\u001b[0m, in \u001b[0;36mFuture.__get_result\u001b[0;34m(self)\u001b[0m\n\u001b[1;32m    399\u001b[0m \u001b[38;5;28;01mif\u001b[39;00m \u001b[38;5;28mself\u001b[39m\u001b[38;5;241m.\u001b[39m_exception:\n\u001b[1;32m    400\u001b[0m     \u001b[38;5;28;01mtry\u001b[39;00m:\n\u001b[0;32m--> 401\u001b[0m         \u001b[38;5;28;01mraise\u001b[39;00m \u001b[38;5;28mself\u001b[39m\u001b[38;5;241m.\u001b[39m_exception\n\u001b[1;32m    402\u001b[0m     \u001b[38;5;28;01mfinally\u001b[39;00m:\n\u001b[1;32m    403\u001b[0m         \u001b[38;5;66;03m# Break a reference cycle with the exception in self._exception\u001b[39;00m\n\u001b[1;32m    404\u001b[0m         \u001b[38;5;28mself\u001b[39m \u001b[38;5;241m=\u001b[39m \u001b[38;5;28;01mNone\u001b[39;00m\n",
      "\u001b[0;31mBrokenProcessPool\u001b[0m: A process in the process pool was terminated abruptly while the future was running or pending."
     ]
    }
   ],
   "source": [
    "import random\n",
    "from lcp.src.problems.problems import Problems\n",
    "from lcp.src.algorithm import Population, GeneticAlgorithm\n",
    "from lcp.src.graphic.draw_container import draw\n",
    "from concurrent.futures import ThreadPoolExecutor\n",
    "from lcp.src.algorithm.population import GroupImprovement\n",
    "from concurrent.futures import ProcessPoolExecutor\n",
    "\n",
    "\n",
    "random.seed(42)\n",
    "\n",
    "types_count = [5, 10, 15, 20]\n",
    "improvements = [GroupImprovement.none,\n",
    "                GroupImprovement.during,\n",
    "                GroupImprovement.late_all,\n",
    "                GroupImprovement.late_best,\n",
    "                GroupImprovement.late_some]\n",
    "\n",
    "# for i in types_count:\n",
    "#    Problems(file_path='problems/types_%d.json' % i)\\\n",
    "#        .generate(10, N_TYPES=i, BOX_SIDE_MIN=250, BOX_SIDE_MAX=750)\n",
    "\n",
    "\n",
    "def solve(args):\n",
    "    problem, imp, num_types = args\n",
    "    random.seed(100)\n",
    "    population = Population(problem, imp)\\\n",
    "        .generate_random_individuals(100).evaluate()\n",
    "    ga = GeneticAlgorithm(population=population,\n",
    "                          MAX_DURATION=60,\n",
    "                          P_MUT_GEN=1/num_types,\n",
    "                          )\n",
    "    ga.start()\n",
    "    return ga.stats\n",
    "\n",
    "\n",
    "with ProcessPoolExecutor(max_workers=1) as executor:\n",
    "    args = []\n",
    "    for i in types_count:\n",
    "        problems = Problems(file_path='problems/types_%d.json' %\n",
    "                            i).load_problems()\n",
    "        for problem in problems:\n",
    "            num_types = len(problem.box_types)\n",
    "            args += [(problem, imp, num_types) for imp in improvements]\n",
    "    print(\"Cantidad de problemas a resolver: %s\" % len(args))\n",
    "    results = executor.map(solve, args)\n",
    "\n",
    "    for result in results:\n",
    "        print(result)"
   ]
  },
  {
   "cell_type": "code",
   "execution_count": null,
   "metadata": {},
   "outputs": [],
   "source": [
    "import matplotlib.pyplot as plt\n",
    "\n",
    "# Tus datos\n",
    "datos = [45619, 45868, 45868, 45952, 45952, 45952, 45952, 45952, 46019, 46019, 46019, 46039, 46103, 46103, 46103, 46199, 46199, 46199, 46199, 46255, 46255, 46255, 46255, 46327, 46327, 46327, 46327, 46327, 46327, 46327, 46327, 46327, 46327, 46327, 46327, 46327, 46327, 46327, 46327, 46327, 46327, 46327, 46327, 46327, 46327, 46327, 46327, 46327, 46327, 46327, 46327, 46327, 46327, 46327, 46327, 46327, 46327, 46327, 46327, 46327, 46327, 46327, 46327, 46327, 46327, 46327, 46327, 46327, 46327, 46327, 46327, 46327, 46327, 46327, 46327, 46327, 46327, 46327, 46327, 46327, 46327, 46327, 46327, 46327, 46327, 46327, 46327, 46327, 46327, 46327, 46327, 46327, 46327, 46327, 46327, 46327, 46327, 46327, 46327, 46327]\n",
    "\n",
    "# Crear el gráfico de línea\n",
    "plt.figure(figsize=(10, 5))\n",
    "plt.plot(datos, marker='.', linestyle='-', color='b')\n",
    "plt.title('Gráfico de Línea de Valores')\n",
    "plt.xlabel('Generación')\n",
    "plt.ylabel('Valor')\n",
    "plt.show()"
   ]
  },
  {
   "cell_type": "code",
   "execution_count": null,
   "metadata": {},
   "outputs": [],
   "source": [
    "from matplotlib import pyplot as plt\n",
    "from IPython.display import clear_output\n",
    "\n",
    "\n",
    "def on_generation(best_values, *args, **kwargs):\n",
    "    # Dibujar un gráfico con la evolución de los valores\n",
    "    clear_output(wait=True)\n",
    "    plt.plot(best_values)\n",
    "    plt.ylabel('Best Value')\n",
    "    plt.xlabel('Generation')\n",
    "    plt.show()\n",
    "\n",
    "\n",
    "ga = GeneticAlgorithm(population=population).start()#on_generation)"
   ]
  },
  {
   "cell_type": "code",
   "execution_count": null,
   "metadata": {},
   "outputs": [],
   "source": [
    "#ga.start(on_generation)"
   ]
  },
  {
   "cell_type": "code",
   "execution_count": null,
   "metadata": {},
   "outputs": [],
   "source": [
    "%matplotlib qt\n",
    "%config InlineBackend.figure_format = 'retina'\n",
    "\n",
    "r = ga.population.best.result\n",
    "draw(r, '', problem.container)"
   ]
  },
  {
   "cell_type": "code",
   "execution_count": null,
   "metadata": {},
   "outputs": [],
   "source": [
    "ga.population.best"
   ]
  },
  {
   "cell_type": "code",
   "execution_count": null,
   "metadata": {},
   "outputs": [],
   "source": [
    "from copy import deepcopy\n",
    "from lcp.src.algorithm.chromosome import Improvement\n",
    "b = deepcopy(ga.population.best)\n",
    "print(b.fitness)\n",
    "b.evaluate(improvement=Improvement.none)\n",
    "print(b.fitness)\n",
    "r2 = b.result\n",
    "print([r.box_count for r in b.genes])\n",
    "print([r.type.min_count for r in b.genes])\n",
    "print([r.type.max_count for r in b.genes])\n",
    "print([r.type.value_individual for r in b.genes])\n",
    "\n",
    "draw(r2, '', problem.container)"
   ]
  },
  {
   "cell_type": "code",
   "execution_count": null,
   "metadata": {},
   "outputs": [],
   "source": [
    "from lcp.src.algorithm.gene import Gene\n",
    "from lcp.src.container.box_type import BoxType\n",
    "\n",
    "\n",
    "genes = ga.population.best[-6:-4]\n",
    "#genes[0].box_count = 1\n",
    "#genes[1].box_count = 1\n",
    "#genes = [Gene(type=BoxType(length=574, width=766, height=575, type=18, min_count=20, max_count=28, value_individual=252818300, weight=252818300), box_count=1, rotation=1),\n",
    "# Gene(type=BoxType(length=430, width=328, height=328, type=6, min_count=83, max_count=107, value_individual=46261120, weight=46261120), box_count=1, rotation=0)]"
   ]
  },
  {
   "cell_type": "code",
   "execution_count": null,
   "metadata": {},
   "outputs": [],
   "source": [
    "from typing import Container\n",
    "from lcp.src.algorithm.chromosome import Chromosome\n",
    "\n",
    "solution = Chromosome(genes,container=problem.container)\n",
    "solution.evaluate()\n",
    "#draw(solution.result, '', problem.container)"
   ]
  },
  {
   "cell_type": "code",
   "execution_count": null,
   "metadata": {},
   "outputs": [],
   "source": [
    "from lcp.src.algorithm.chromosome import Chromosome\n",
    "from lcp.src.algorithm.gene import Gene\n",
    "from lcp.src.container.box_type import BoxType\n",
    "from lcp.src.location.size import Size\n",
    "#%matplotlib tk\n",
    "\n",
    "genes = [Gene(type=BoxType(length=300, width=383, height=575,  type=4, min_count=22, max_count=26, value_individual=66067500, weight=66067500), box_count=24, rotation=0),\n",
    "         Gene(type=BoxType(length=300, width=383, height=575,  type=17, min_count=22, max_count=25, value_individual=66067500,\n",
    "              weight=66067500), box_count=25, rotation=1),\n",
    "         Gene(type=BoxType(length=500, width=460, height=460,  type=5, min_count=60, max_count=94, value_individual=105800000, weight=105800000), box_count=94, rotation=1)]\n",
    "e = Chromosome(genes=genes, container=problem.container)\n",
    "e.evaluate()\n",
    "#draw(e.result, '', problem.container)"
   ]
  }
 ],
 "metadata": {
  "kernelspec": {
   "display_name": "base",
   "language": "python",
   "name": "python3"
  },
  "language_info": {
   "codemirror_mode": {
    "name": "ipython",
    "version": 3
   },
   "file_extension": ".py",
   "mimetype": "text/x-python",
   "name": "python",
   "nbconvert_exporter": "python",
   "pygments_lexer": "ipython3",
   "version": "3.12.3"
  }
 },
 "nbformat": 4,
 "nbformat_minor": 2
}
