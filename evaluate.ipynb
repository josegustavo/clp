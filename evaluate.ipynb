{
 "cells": [
  {
   "cell_type": "code",
   "execution_count": 2,
   "metadata": {},
   "outputs": [
    {
     "ename": "KeyboardInterrupt",
     "evalue": "",
     "output_type": "error",
     "traceback": [
      "\u001b[0;31m---------------------------------------------------------------------------\u001b[0m",
      "\u001b[0;31mKeyboardInterrupt\u001b[0m                         Traceback (most recent call last)",
      "Cell \u001b[0;32mIn[2], line 43\u001b[0m\n\u001b[1;32m     41\u001b[0m \u001b[38;5;28;01mfor\u001b[39;00m imp \u001b[38;5;129;01min\u001b[39;00m improvements:\n\u001b[1;32m     42\u001b[0m     \u001b[38;5;28;01mwith\u001b[39;00m \u001b[38;5;28mopen\u001b[39m(\u001b[38;5;124m'\u001b[39m\u001b[38;5;124mresults.txt\u001b[39m\u001b[38;5;124m'\u001b[39m, \u001b[38;5;124m'\u001b[39m\u001b[38;5;124ma\u001b[39m\u001b[38;5;124m'\u001b[39m) \u001b[38;5;28;01mas\u001b[39;00m outfile:\n\u001b[0;32m---> 43\u001b[0m         json\u001b[38;5;241m.\u001b[39mdump(\u001b[43msolve\u001b[49m\u001b[43m(\u001b[49m\u001b[43m(\u001b[49m\u001b[43mproblem\u001b[49m\u001b[43m,\u001b[49m\u001b[43m \u001b[49m\u001b[43mimp\u001b[49m\u001b[43m,\u001b[49m\u001b[43m \u001b[49m\u001b[43mnum_types\u001b[49m\u001b[43m)\u001b[49m\u001b[43m)\u001b[49m, outfile)\n\u001b[1;32m     44\u001b[0m         outfile\u001b[38;5;241m.\u001b[39mwrite(\u001b[38;5;124m'\u001b[39m\u001b[38;5;130;01m\\n\u001b[39;00m\u001b[38;5;124m'\u001b[39m)\n",
      "Cell \u001b[0;32mIn[2], line 32\u001b[0m, in \u001b[0;36msolve\u001b[0;34m(args)\u001b[0m\n\u001b[1;32m     26\u001b[0m population \u001b[38;5;241m=\u001b[39m Population(problem, imp)\\\n\u001b[1;32m     27\u001b[0m     \u001b[38;5;241m.\u001b[39mgenerate_random_individuals(\u001b[38;5;241m100\u001b[39m)\u001b[38;5;241m.\u001b[39mevaluate()\n\u001b[1;32m     28\u001b[0m ga \u001b[38;5;241m=\u001b[39m GeneticAlgorithm(population\u001b[38;5;241m=\u001b[39mpopulation,\n\u001b[1;32m     29\u001b[0m                       MAX_DURATION\u001b[38;5;241m=\u001b[39m\u001b[38;5;241m10\u001b[39m,\n\u001b[1;32m     30\u001b[0m                       P_MUT_GEN\u001b[38;5;241m=\u001b[39m\u001b[38;5;241m1\u001b[39m\u001b[38;5;241m/\u001b[39mnum_types,\n\u001b[1;32m     31\u001b[0m                       )\n\u001b[0;32m---> 32\u001b[0m \u001b[43mga\u001b[49m\u001b[38;5;241;43m.\u001b[39;49m\u001b[43mstart\u001b[49m\u001b[43m(\u001b[49m\u001b[43m)\u001b[49m\n\u001b[1;32m     33\u001b[0m \u001b[38;5;28;01mreturn\u001b[39;00m ga\u001b[38;5;241m.\u001b[39mstats\n",
      "File \u001b[0;32m~/Documents/Tesis/lcp/src/algorithm/genetic_algorithm.py:83\u001b[0m, in \u001b[0;36mGeneticAlgorithm.start\u001b[0;34m(self, onGeneration)\u001b[0m\n\u001b[1;32m     78\u001b[0m \u001b[38;5;28;01mwhile\u001b[39;00m (time_end \u001b[38;5;241m-\u001b[39m time_start) \u001b[38;5;241m<\u001b[39m \u001b[38;5;28mself\u001b[39m\u001b[38;5;241m.\u001b[39mMAX_DURATION \u001b[38;5;129;01mand\u001b[39;00m generations_not_improved \u001b[38;5;241m<\u001b[39m \u001b[38;5;28mself\u001b[39m\u001b[38;5;241m.\u001b[39mSTOP_UNIMPROVED \u001b[38;5;129;01mand\u001b[39;00m generation \u001b[38;5;241m<\u001b[39m \u001b[38;5;28mself\u001b[39m\u001b[38;5;241m.\u001b[39mMAX_GENERATIONS:\n\u001b[1;32m     79\u001b[0m     \u001b[38;5;66;03m# print(\"-> Generation %d best value: %d\" % (\u001b[39;00m\n\u001b[1;32m     80\u001b[0m     \u001b[38;5;66;03m#      generation, elite.get_fitness))\u001b[39;00m\n\u001b[1;32m     81\u001b[0m     \u001b[38;5;28mself\u001b[39m\u001b[38;5;241m.\u001b[39mselect_with_crossover()\n\u001b[0;32m---> 83\u001b[0m     \u001b[38;5;28;43mself\u001b[39;49m\u001b[38;5;241;43m.\u001b[39;49m\u001b[43mpopulation\u001b[49m\u001b[38;5;241;43m.\u001b[39;49m\u001b[43mmutation\u001b[49m\u001b[43m(\u001b[49m\u001b[38;5;28;43mself\u001b[39;49m\u001b[38;5;241;43m.\u001b[39;49m\u001b[43mP_MUT\u001b[49m\u001b[43m)\u001b[49m\n\u001b[1;32m     85\u001b[0m     new_best \u001b[38;5;241m=\u001b[39m \u001b[38;5;28mself\u001b[39m\u001b[38;5;241m.\u001b[39mpopulation\u001b[38;5;241m.\u001b[39mbest\n\u001b[1;32m     86\u001b[0m     \u001b[38;5;28;01mif\u001b[39;00m new_best\u001b[38;5;241m.\u001b[39mget_fitness \u001b[38;5;241m>\u001b[39m elite_fitness:\n\u001b[1;32m     87\u001b[0m         \u001b[38;5;66;03m# print(\"New elite: \", new_best.get_fitness,\u001b[39;00m\n\u001b[1;32m     88\u001b[0m         \u001b[38;5;66;03m#      \"Old elite: \", elite_fitness)\u001b[39;00m\n",
      "File \u001b[0;32m~/Documents/Tesis/lcp/src/algorithm/population.py:128\u001b[0m, in \u001b[0;36mPopulation.mutation\u001b[0;34m(self, P_MUT)\u001b[0m\n\u001b[1;32m    122\u001b[0m         mutate_total \u001b[38;5;241m=\u001b[39m [a \u001b[38;5;241m+\u001b[39m b \u001b[38;5;28;01mfor\u001b[39;00m a,\n\u001b[1;32m    123\u001b[0m                         b \u001b[38;5;129;01min\u001b[39;00m \u001b[38;5;28mzip\u001b[39m(mutate_total, mutate_result)]\n\u001b[1;32m    125\u001b[0m \u001b[38;5;28;01mif\u001b[39;00m \u001b[38;5;28msum\u001b[39m(mutate_total) \u001b[38;5;241m>\u001b[39m \u001b[38;5;241m0\u001b[39m:\n\u001b[1;32m    126\u001b[0m     \u001b[38;5;66;03m# print(\u001b[39;00m\n\u001b[1;32m    127\u001b[0m     \u001b[38;5;66;03m#    f'Se mutaron {mutate_total[0]} tipos, {mutate_total[1]} cantidades y {mutate_total[2]} rotaciones')\u001b[39;00m\n\u001b[0;32m--> 128\u001b[0m     \u001b[38;5;28;43mself\u001b[39;49m\u001b[38;5;241;43m.\u001b[39;49m\u001b[43mevaluate\u001b[49m\u001b[43m(\u001b[49m\u001b[43m)\u001b[49m\n\u001b[1;32m    129\u001b[0m \u001b[38;5;28;01mreturn\u001b[39;00m \u001b[38;5;28mself\u001b[39m\n",
      "File \u001b[0;32m~/Documents/Tesis/lcp/src/algorithm/population.py:96\u001b[0m, in \u001b[0;36mPopulation.evaluate\u001b[0;34m(self)\u001b[0m\n\u001b[1;32m     93\u001b[0m     \u001b[38;5;28mself\u001b[39m\u001b[38;5;241m.\u001b[39mindividuals\u001b[38;5;241m.\u001b[39msort(key\u001b[38;5;241m=\u001b[39m\u001b[38;5;28;01mlambda\u001b[39;00m i: i\u001b[38;5;241m.\u001b[39mevaluate(\n\u001b[1;32m     94\u001b[0m         Improvement\u001b[38;5;241m.\u001b[39mlate)\u001b[38;5;241m.\u001b[39mget_fitness, reverse\u001b[38;5;241m=\u001b[39m\u001b[38;5;28;01mTrue\u001b[39;00m)\n\u001b[1;32m     95\u001b[0m \u001b[38;5;28;01melse\u001b[39;00m:\n\u001b[0;32m---> 96\u001b[0m     \u001b[38;5;28;43mself\u001b[39;49m\u001b[38;5;241;43m.\u001b[39;49m\u001b[43mindividuals\u001b[49m\u001b[38;5;241;43m.\u001b[39;49m\u001b[43msort\u001b[49m\u001b[43m(\u001b[49m\n\u001b[1;32m     97\u001b[0m \u001b[43m        \u001b[49m\u001b[43mkey\u001b[49m\u001b[38;5;241;43m=\u001b[39;49m\u001b[38;5;28;43;01mlambda\u001b[39;49;00m\u001b[43m \u001b[49m\u001b[43mi\u001b[49m\u001b[43m:\u001b[49m\u001b[43m \u001b[49m\u001b[43mi\u001b[49m\u001b[38;5;241;43m.\u001b[39;49m\u001b[43mevaluate\u001b[49m\u001b[43m(\u001b[49m\u001b[43m)\u001b[49m\u001b[38;5;241;43m.\u001b[39;49m\u001b[43mget_fitness\u001b[49m\u001b[43m,\u001b[49m\u001b[43m \u001b[49m\u001b[43mreverse\u001b[49m\u001b[38;5;241;43m=\u001b[39;49m\u001b[38;5;28;43;01mTrue\u001b[39;49;00m\u001b[43m)\u001b[49m\n\u001b[1;32m     98\u001b[0m     \u001b[38;5;28;01mif\u001b[39;00m \u001b[38;5;28mself\u001b[39m\u001b[38;5;241m.\u001b[39mgroup_improvement \u001b[38;5;241m==\u001b[39m GroupImprovement\u001b[38;5;241m.\u001b[39mlate_some:\n\u001b[1;32m     99\u001b[0m         \u001b[38;5;28;01mfor\u001b[39;00m i \u001b[38;5;129;01min\u001b[39;00m \u001b[38;5;28mself\u001b[39m\u001b[38;5;241m.\u001b[39mindividuals[:\u001b[38;5;241m5\u001b[39m]:\n",
      "File \u001b[0;32m~/Documents/Tesis/lcp/src/algorithm/population.py:97\u001b[0m, in \u001b[0;36mPopulation.evaluate.<locals>.<lambda>\u001b[0;34m(i)\u001b[0m\n\u001b[1;32m     93\u001b[0m     \u001b[38;5;28mself\u001b[39m\u001b[38;5;241m.\u001b[39mindividuals\u001b[38;5;241m.\u001b[39msort(key\u001b[38;5;241m=\u001b[39m\u001b[38;5;28;01mlambda\u001b[39;00m i: i\u001b[38;5;241m.\u001b[39mevaluate(\n\u001b[1;32m     94\u001b[0m         Improvement\u001b[38;5;241m.\u001b[39mlate)\u001b[38;5;241m.\u001b[39mget_fitness, reverse\u001b[38;5;241m=\u001b[39m\u001b[38;5;28;01mTrue\u001b[39;00m)\n\u001b[1;32m     95\u001b[0m \u001b[38;5;28;01melse\u001b[39;00m:\n\u001b[1;32m     96\u001b[0m     \u001b[38;5;28mself\u001b[39m\u001b[38;5;241m.\u001b[39mindividuals\u001b[38;5;241m.\u001b[39msort(\n\u001b[0;32m---> 97\u001b[0m         key\u001b[38;5;241m=\u001b[39m\u001b[38;5;28;01mlambda\u001b[39;00m i: \u001b[43mi\u001b[49m\u001b[38;5;241;43m.\u001b[39;49m\u001b[43mevaluate\u001b[49m\u001b[43m(\u001b[49m\u001b[43m)\u001b[49m\u001b[38;5;241m.\u001b[39mget_fitness, reverse\u001b[38;5;241m=\u001b[39m\u001b[38;5;28;01mTrue\u001b[39;00m)\n\u001b[1;32m     98\u001b[0m     \u001b[38;5;28;01mif\u001b[39;00m \u001b[38;5;28mself\u001b[39m\u001b[38;5;241m.\u001b[39mgroup_improvement \u001b[38;5;241m==\u001b[39m GroupImprovement\u001b[38;5;241m.\u001b[39mlate_some:\n\u001b[1;32m     99\u001b[0m         \u001b[38;5;28;01mfor\u001b[39;00m i \u001b[38;5;129;01min\u001b[39;00m \u001b[38;5;28mself\u001b[39m\u001b[38;5;241m.\u001b[39mindividuals[:\u001b[38;5;241m5\u001b[39m]:\n",
      "File \u001b[0;32m~/Documents/Tesis/lcp/src/algorithm/chromosome.py:95\u001b[0m, in \u001b[0;36mChromosome.evaluate\u001b[0;34m(self, improvement, is_improving_late)\u001b[0m\n\u001b[1;32m     92\u001b[0m     \u001b[38;5;66;03m# Añadir los nuevos espacios generados\u001b[39;00m\n\u001b[1;32m     93\u001b[0m     side, top, front \u001b[38;5;241m=\u001b[39m available\u001b[38;5;241m.\u001b[39msplit(\n\u001b[1;32m     94\u001b[0m         gene\u001b[38;5;241m.\u001b[39msize, one_type\u001b[38;5;241m.\u001b[39mtype)\n\u001b[0;32m---> 95\u001b[0m     \u001b[38;5;28mself\u001b[39m\u001b[38;5;241m.\u001b[39mdblf \u001b[38;5;241m+\u001b[39m\u001b[38;5;241m=\u001b[39m \u001b[43mDBLF\u001b[49m\u001b[43m(\u001b[49m\u001b[43mside\u001b[49m\u001b[38;5;241;43m=\u001b[39;49m\u001b[43mside\u001b[49m\u001b[43m,\u001b[49m\u001b[43m \u001b[49m\u001b[43mtop\u001b[49m\u001b[38;5;241;43m=\u001b[39;49m\u001b[43mtop\u001b[49m\u001b[43m,\u001b[49m\u001b[43m \u001b[49m\u001b[43mfront\u001b[49m\u001b[38;5;241;43m=\u001b[39;49m\u001b[43mfront\u001b[49m\u001b[43m)\u001b[49m\n\u001b[1;32m     96\u001b[0m     \u001b[38;5;28mself\u001b[39m\u001b[38;5;241m.\u001b[39mdblf\u001b[38;5;241m.\u001b[39mcompact()\n\u001b[1;32m     97\u001b[0m \u001b[38;5;28;01melse\u001b[39;00m:\n\u001b[1;32m     98\u001b[0m     \u001b[38;5;66;03m# logging.debug(\"No hay espacio disponible para la caja %d %s\" %\u001b[39;00m\n\u001b[1;32m     99\u001b[0m     \u001b[38;5;66;03m#              (box_number, gene.size))\u001b[39;00m\n",
      "File \u001b[0;32m<string>:2\u001b[0m, in \u001b[0;36m__init__\u001b[0;34m(self, side, top, front, MAX_DEPTH_ALLOWED)\u001b[0m\n",
      "\u001b[0;31mKeyboardInterrupt\u001b[0m: "
     ]
    }
   ],
   "source": [
    "import random\n",
    "from lcp.src.problems.problems import Problems\n",
    "from lcp.src.algorithm import Population, GeneticAlgorithm\n",
    "from lcp.src.graphic.draw_container import draw\n",
    "from lcp.src.algorithm.population import GroupImprovement\n",
    "import json\n",
    "\n",
    "\n",
    "#random.seed(42)\n",
    "\n",
    "types_count = [5, 10, 15, 20]\n",
    "improvements = [GroupImprovement.none,\n",
    "                GroupImprovement.during,\n",
    "                GroupImprovement.late_all,\n",
    "                GroupImprovement.late_best,\n",
    "                GroupImprovement.late_some]\n",
    "\n",
    "for i in types_count:\n",
    "  Problems(file_path='problems/types_%d.json' % i)\\\n",
    "      .generate(10, N_TYPES=i, BOX_SIDE_MIN=250, BOX_SIDE_MAX=750)\n",
    "\n",
    "\n",
    "def solve(args):\n",
    "    problem, imp, num_types = args\n",
    "    random.seed(100)\n",
    "    population = Population(problem, imp)\\\n",
    "        .generate_random_individuals(100).evaluate()\n",
    "    ga = GeneticAlgorithm(population=population,\n",
    "                          MAX_DURATION=10,\n",
    "                          P_MUT_GEN=1/num_types,\n",
    "                          )\n",
    "    ga.start()\n",
    "    return ga.stats\n",
    "\n",
    "\n",
    "for i in types_count:\n",
    "    problems = Problems(file_path='problems/types_%d.json' %\n",
    "                        i).load_problems()\n",
    "    for problem in problems:\n",
    "        num_types = len(problem.box_types)\n",
    "        for imp in improvements:\n",
    "            with open('results.txt', 'a') as outfile:\n",
    "                json.dump(solve((problem, imp, num_types)), outfile)\n",
    "                outfile.write('\\n')"
   ]
  },
  {
   "cell_type": "code",
   "execution_count": null,
   "metadata": {},
   "outputs": [],
   "source": [
    "import matplotlib.pyplot as plt\n",
    "\n",
    "# Tus datos\n",
    "datos = [45619, 45868, 45868, 45952, 45952, 45952, 45952, 45952, 46019, 46019, 46019, 46039, 46103, 46103, 46103, 46199, 46199, 46199, 46199, 46255, 46255, 46255, 46255, 46327, 46327, 46327, 46327, 46327, 46327, 46327, 46327, 46327, 46327, 46327, 46327, 46327, 46327, 46327, 46327, 46327, 46327, 46327, 46327, 46327, 46327, 46327, 46327, 46327, 46327, 46327, 46327, 46327, 46327, 46327, 46327, 46327, 46327, 46327, 46327, 46327, 46327, 46327, 46327, 46327, 46327, 46327, 46327, 46327, 46327, 46327, 46327, 46327, 46327, 46327, 46327, 46327, 46327, 46327, 46327, 46327, 46327, 46327, 46327, 46327, 46327, 46327, 46327, 46327, 46327, 46327, 46327, 46327, 46327, 46327, 46327, 46327, 46327, 46327, 46327, 46327]\n",
    "\n",
    "# Crear el gráfico de línea\n",
    "plt.figure(figsize=(10, 5))\n",
    "plt.plot(datos, marker='.', linestyle='-', color='b')\n",
    "plt.title('Gráfico de Línea de Valores')\n",
    "plt.xlabel('Generación')\n",
    "plt.ylabel('Valor')\n",
    "plt.show()"
   ]
  },
  {
   "cell_type": "code",
   "execution_count": null,
   "metadata": {},
   "outputs": [],
   "source": [
    "from matplotlib import pyplot as plt\n",
    "from IPython.display import clear_output\n",
    "\n",
    "\n",
    "def on_generation(best_values, *args, **kwargs):\n",
    "    # Dibujar un gráfico con la evolución de los valores\n",
    "    clear_output(wait=True)\n",
    "    plt.plot(best_values)\n",
    "    plt.ylabel('Best Value')\n",
    "    plt.xlabel('Generation')\n",
    "    plt.show()\n",
    "\n",
    "\n",
    "ga = GeneticAlgorithm(population=population).start()#on_generation)"
   ]
  },
  {
   "cell_type": "code",
   "execution_count": null,
   "metadata": {},
   "outputs": [],
   "source": [
    "#ga.start(on_generation)"
   ]
  },
  {
   "cell_type": "code",
   "execution_count": null,
   "metadata": {},
   "outputs": [],
   "source": [
    "%matplotlib qt\n",
    "%config InlineBackend.figure_format = 'retina'\n",
    "\n",
    "r = ga.population.best.result\n",
    "draw(r, '', problem.container)"
   ]
  },
  {
   "cell_type": "code",
   "execution_count": null,
   "metadata": {},
   "outputs": [],
   "source": [
    "ga.population.best"
   ]
  },
  {
   "cell_type": "code",
   "execution_count": null,
   "metadata": {},
   "outputs": [],
   "source": [
    "from copy import deepcopy\n",
    "from lcp.src.algorithm.chromosome import Improvement\n",
    "b = deepcopy(ga.population.best)\n",
    "print(b.fitness)\n",
    "b.evaluate(improvement=Improvement.none)\n",
    "print(b.fitness)\n",
    "r2 = b.result\n",
    "print([r.box_count for r in b.genes])\n",
    "print([r.type.min_count for r in b.genes])\n",
    "print([r.type.max_count for r in b.genes])\n",
    "print([r.type.value_individual for r in b.genes])\n",
    "\n",
    "draw(r2, '', problem.container)"
   ]
  },
  {
   "cell_type": "code",
   "execution_count": null,
   "metadata": {},
   "outputs": [],
   "source": [
    "from lcp.src.algorithm.gene import Gene\n",
    "from lcp.src.container.box_type import BoxType\n",
    "\n",
    "\n",
    "genes = ga.population.best[-6:-4]\n",
    "#genes[0].box_count = 1\n",
    "#genes[1].box_count = 1\n",
    "#genes = [Gene(type=BoxType(length=574, width=766, height=575, type=18, min_count=20, max_count=28, value_individual=252818300, weight=252818300), box_count=1, rotation=1),\n",
    "# Gene(type=BoxType(length=430, width=328, height=328, type=6, min_count=83, max_count=107, value_individual=46261120, weight=46261120), box_count=1, rotation=0)]"
   ]
  },
  {
   "cell_type": "code",
   "execution_count": null,
   "metadata": {},
   "outputs": [],
   "source": [
    "from typing import Container\n",
    "from lcp.src.algorithm.chromosome import Chromosome\n",
    "\n",
    "solution = Chromosome(genes,container=problem.container)\n",
    "solution.evaluate()\n",
    "#draw(solution.result, '', problem.container)"
   ]
  },
  {
   "cell_type": "code",
   "execution_count": null,
   "metadata": {},
   "outputs": [],
   "source": [
    "from lcp.src.algorithm.chromosome import Chromosome\n",
    "from lcp.src.algorithm.gene import Gene\n",
    "from lcp.src.container.box_type import BoxType\n",
    "from lcp.src.location.size import Size\n",
    "#%matplotlib tk\n",
    "\n",
    "genes = [Gene(type=BoxType(length=300, width=383, height=575,  type=4, min_count=22, max_count=26, value_individual=66067500, weight=66067500), box_count=24, rotation=0),\n",
    "         Gene(type=BoxType(length=300, width=383, height=575,  type=17, min_count=22, max_count=25, value_individual=66067500,\n",
    "              weight=66067500), box_count=25, rotation=1),\n",
    "         Gene(type=BoxType(length=500, width=460, height=460,  type=5, min_count=60, max_count=94, value_individual=105800000, weight=105800000), box_count=94, rotation=1)]\n",
    "e = Chromosome(genes=genes, container=problem.container)\n",
    "e.evaluate()\n",
    "#draw(e.result, '', problem.container)"
   ]
  }
 ],
 "metadata": {
  "kernelspec": {
   "display_name": "base",
   "language": "python",
   "name": "python3"
  },
  "language_info": {
   "codemirror_mode": {
    "name": "ipython",
    "version": 3
   },
   "file_extension": ".py",
   "mimetype": "text/x-python",
   "name": "python",
   "nbconvert_exporter": "python",
   "pygments_lexer": "ipython3",
   "version": "3.12.3"
  }
 },
 "nbformat": 4,
 "nbformat_minor": 2
}
