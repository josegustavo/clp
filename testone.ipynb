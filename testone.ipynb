{
  "cells": [
    {
      "cell_type": "code",
      "execution_count": 5,
      "metadata": {},
      "outputs": [
        {
          "ename": "KeyboardInterrupt",
          "evalue": "",
          "output_type": "error",
          "traceback": [
            "\u001b[0;31m---------------------------------------------------------------------------\u001b[0m",
            "\u001b[0;31mKeyboardInterrupt\u001b[0m                         Traceback (most recent call last)",
            "Cell \u001b[0;32mIn[5], line 19\u001b[0m\n\u001b[1;32m     17\u001b[0m individuals \u001b[38;5;241m=\u001b[39m population\u001b[38;5;241m.\u001b[39mgenerate_random_individuals(\u001b[38;5;241m100\u001b[39m)\n\u001b[1;32m     18\u001b[0m population\u001b[38;5;241m.\u001b[39mindividuals \u001b[38;5;241m=\u001b[39m individuals\n\u001b[0;32m---> 19\u001b[0m \u001b[43mpopulation\u001b[49m\u001b[38;5;241;43m.\u001b[39;49m\u001b[43mevaluate\u001b[49m\u001b[43m(\u001b[49m\u001b[43m)\u001b[49m\n\u001b[1;32m     20\u001b[0m first_best_fitness \u001b[38;5;241m=\u001b[39m population\u001b[38;5;241m.\u001b[39mbest\u001b[38;5;241m.\u001b[39mfitness\n\u001b[1;32m     22\u001b[0m ga \u001b[38;5;241m=\u001b[39m GeneticAlgorithm(population\u001b[38;5;241m=\u001b[39mpopulation,\n\u001b[1;32m     23\u001b[0m                           MAX_DURATION\u001b[38;5;241m=\u001b[39m\u001b[38;5;241m60\u001b[39m,\n\u001b[1;32m     24\u001b[0m                           P_MUT_GEN\u001b[38;5;241m=\u001b[39m\u001b[38;5;241m1\u001b[39m\u001b[38;5;241m/\u001b[39m\u001b[38;5;28mlen\u001b[39m(problem\u001b[38;5;241m.\u001b[39mbox_types)\n\u001b[1;32m     25\u001b[0m                           )\n",
            "File \u001b[0;32m~/Documents/Tesis/clp/src/algorithm/population.py:90\u001b[0m, in \u001b[0;36mPopulation.evaluate\u001b[0;34m(self)\u001b[0m\n\u001b[1;32m     86\u001b[0m     \u001b[38;5;28mself\u001b[39m\u001b[38;5;241m.\u001b[39mindividuals\u001b[38;5;241m.\u001b[39msort(key\u001b[38;5;241m=\u001b[39m\u001b[38;5;28;01mlambda\u001b[39;00m i: i\u001b[38;5;241m.\u001b[39mevaluate(Improvement\u001b[38;5;241m.\u001b[39mduring)\u001b[38;5;241m.\u001b[39m\n\u001b[1;32m     87\u001b[0m                           fitness,\n\u001b[1;32m     88\u001b[0m                           reverse\u001b[38;5;241m=\u001b[39m\u001b[38;5;28;01mTrue\u001b[39;00m)\n\u001b[1;32m     89\u001b[0m \u001b[38;5;28;01melif\u001b[39;00m \u001b[38;5;28mself\u001b[39m\u001b[38;5;241m.\u001b[39mgroup_improvement \u001b[38;5;241m==\u001b[39m GroupImprovement\u001b[38;5;241m.\u001b[39mlate_all:\n\u001b[0;32m---> 90\u001b[0m     \u001b[38;5;28;43mself\u001b[39;49m\u001b[38;5;241;43m.\u001b[39;49m\u001b[43mindividuals\u001b[49m\u001b[38;5;241;43m.\u001b[39;49m\u001b[43msort\u001b[49m\u001b[43m(\u001b[49m\u001b[43mkey\u001b[49m\u001b[38;5;241;43m=\u001b[39;49m\u001b[38;5;28;43;01mlambda\u001b[39;49;00m\u001b[43m \u001b[49m\u001b[43mi\u001b[49m\u001b[43m:\u001b[49m\u001b[43m \u001b[49m\u001b[43mi\u001b[49m\u001b[38;5;241;43m.\u001b[39;49m\u001b[43mevaluate\u001b[49m\u001b[43m(\u001b[49m\u001b[43m)\u001b[49m\u001b[38;5;241;43m.\u001b[39;49m\n\u001b[1;32m     91\u001b[0m \u001b[43m                          \u001b[49m\u001b[43mevaluate_with_improvement_late\u001b[49m\u001b[43m(\u001b[49m\u001b[43m)\u001b[49m\u001b[43m,\u001b[49m\n\u001b[1;32m     92\u001b[0m \u001b[43m                          \u001b[49m\u001b[43mreverse\u001b[49m\u001b[38;5;241;43m=\u001b[39;49m\u001b[38;5;28;43;01mTrue\u001b[39;49;00m\u001b[43m)\u001b[49m\n\u001b[1;32m     93\u001b[0m \u001b[38;5;28;01melse\u001b[39;00m:\n\u001b[1;32m     94\u001b[0m     \u001b[38;5;28mself\u001b[39m\u001b[38;5;241m.\u001b[39mindividuals\u001b[38;5;241m.\u001b[39msort(\n\u001b[1;32m     95\u001b[0m         key\u001b[38;5;241m=\u001b[39m\u001b[38;5;28;01mlambda\u001b[39;00m i: i\u001b[38;5;241m.\u001b[39mevaluate()\u001b[38;5;241m.\u001b[39mfitness, reverse\u001b[38;5;241m=\u001b[39m\u001b[38;5;28;01mTrue\u001b[39;00m)\n",
            "File \u001b[0;32m~/Documents/Tesis/clp/src/algorithm/population.py:91\u001b[0m, in \u001b[0;36mPopulation.evaluate.<locals>.<lambda>\u001b[0;34m(i)\u001b[0m\n\u001b[1;32m     86\u001b[0m     \u001b[38;5;28mself\u001b[39m\u001b[38;5;241m.\u001b[39mindividuals\u001b[38;5;241m.\u001b[39msort(key\u001b[38;5;241m=\u001b[39m\u001b[38;5;28;01mlambda\u001b[39;00m i: i\u001b[38;5;241m.\u001b[39mevaluate(Improvement\u001b[38;5;241m.\u001b[39mduring)\u001b[38;5;241m.\u001b[39m\n\u001b[1;32m     87\u001b[0m                           fitness,\n\u001b[1;32m     88\u001b[0m                           reverse\u001b[38;5;241m=\u001b[39m\u001b[38;5;28;01mTrue\u001b[39;00m)\n\u001b[1;32m     89\u001b[0m \u001b[38;5;28;01melif\u001b[39;00m \u001b[38;5;28mself\u001b[39m\u001b[38;5;241m.\u001b[39mgroup_improvement \u001b[38;5;241m==\u001b[39m GroupImprovement\u001b[38;5;241m.\u001b[39mlate_all:\n\u001b[1;32m     90\u001b[0m     \u001b[38;5;28mself\u001b[39m\u001b[38;5;241m.\u001b[39mindividuals\u001b[38;5;241m.\u001b[39msort(key\u001b[38;5;241m=\u001b[39m\u001b[38;5;28;01mlambda\u001b[39;00m i: \u001b[43mi\u001b[49m\u001b[38;5;241;43m.\u001b[39;49m\u001b[43mevaluate\u001b[49m\u001b[43m(\u001b[49m\u001b[43m)\u001b[49m\u001b[38;5;241;43m.\u001b[39;49m\n\u001b[0;32m---> 91\u001b[0m \u001b[43m                          \u001b[49m\u001b[43mevaluate_with_improvement_late\u001b[49m\u001b[43m(\u001b[49m\u001b[43m)\u001b[49m,\n\u001b[1;32m     92\u001b[0m                           reverse\u001b[38;5;241m=\u001b[39m\u001b[38;5;28;01mTrue\u001b[39;00m)\n\u001b[1;32m     93\u001b[0m \u001b[38;5;28;01melse\u001b[39;00m:\n\u001b[1;32m     94\u001b[0m     \u001b[38;5;28mself\u001b[39m\u001b[38;5;241m.\u001b[39mindividuals\u001b[38;5;241m.\u001b[39msort(\n\u001b[1;32m     95\u001b[0m         key\u001b[38;5;241m=\u001b[39m\u001b[38;5;28;01mlambda\u001b[39;00m i: i\u001b[38;5;241m.\u001b[39mevaluate()\u001b[38;5;241m.\u001b[39mfitness, reverse\u001b[38;5;241m=\u001b[39m\u001b[38;5;28;01mTrue\u001b[39;00m)\n",
            "File \u001b[0;32m~/Documents/Tesis/clp/src/algorithm/chromosome.py:212\u001b[0m, in \u001b[0;36mChromosome.evaluate_with_improvement_late\u001b[0;34m(self)\u001b[0m\n\u001b[1;32m    209\u001b[0m     side, top, front \u001b[38;5;241m=\u001b[39m available\u001b[38;5;241m.\u001b[39msplit(gene\u001b[38;5;241m.\u001b[39msize,\n\u001b[1;32m    210\u001b[0m                                        one_type\u001b[38;5;241m.\u001b[39mtype)\n\u001b[1;32m    211\u001b[0m     new_dblf \u001b[38;5;241m+\u001b[39m\u001b[38;5;241m=\u001b[39m DBLF(side\u001b[38;5;241m=\u001b[39mside, top\u001b[38;5;241m=\u001b[39mtop, front\u001b[38;5;241m=\u001b[39mfront)\n\u001b[0;32m--> 212\u001b[0m     \u001b[43mnew_dblf\u001b[49m\u001b[38;5;241;43m.\u001b[39;49m\u001b[43mcompact\u001b[49m\u001b[43m(\u001b[49m\u001b[43m)\u001b[49m\n\u001b[1;32m    213\u001b[0m \u001b[38;5;28;01melse\u001b[39;00m:\n\u001b[1;32m    214\u001b[0m     \u001b[38;5;28;01mbreak\u001b[39;00m\n",
            "File \u001b[0;32m~/Documents/Tesis/clp/src/algorithm/dblf.py:133\u001b[0m, in \u001b[0;36mDBLF.compact\u001b[0;34m(self)\u001b[0m\n\u001b[1;32m    131\u001b[0m side_next \u001b[38;5;241m=\u001b[39m \u001b[38;5;28mself\u001b[39m[i]\n\u001b[1;32m    132\u001b[0m \u001b[38;5;28;01mfor\u001b[39;00m j \u001b[38;5;129;01min\u001b[39;00m \u001b[38;5;28mrange\u001b[39m(i\u001b[38;5;241m-\u001b[39m\u001b[38;5;241m1\u001b[39m, \u001b[38;5;241m-\u001b[39m\u001b[38;5;241m1\u001b[39m, \u001b[38;5;241m-\u001b[39m\u001b[38;5;241m1\u001b[39m):\n\u001b[0;32m--> 133\u001b[0m     side_prev \u001b[38;5;241m=\u001b[39m \u001b[38;5;28;43mself\u001b[39;49m\u001b[43m[\u001b[49m\u001b[43mj\u001b[49m\u001b[43m]\u001b[49m\n\u001b[1;32m    134\u001b[0m     \u001b[38;5;28;01mif\u001b[39;00m side_prev\u001b[38;5;241m.\u001b[39mposition\u001b[38;5;241m.\u001b[39mx \u001b[38;5;241m==\u001b[39m side_next\u001b[38;5;241m.\u001b[39mposition\u001b[38;5;241m.\u001b[39mx \u001b[38;5;129;01mand\u001b[39;00m \\\n\u001b[1;32m    135\u001b[0m             side_prev\u001b[38;5;241m.\u001b[39mposition\u001b[38;5;241m.\u001b[39my \u001b[38;5;241m==\u001b[39m side_next\u001b[38;5;241m.\u001b[39mposition\u001b[38;5;241m.\u001b[39my \u001b[38;5;129;01mand\u001b[39;00m \\\n\u001b[1;32m    136\u001b[0m             side_prev\u001b[38;5;241m.\u001b[39msize\u001b[38;5;241m.\u001b[39mlength \u001b[38;5;241m==\u001b[39m side_next\u001b[38;5;241m.\u001b[39msize\u001b[38;5;241m.\u001b[39mlength \u001b[38;5;129;01mand\u001b[39;00m \\\n\u001b[1;32m    137\u001b[0m             side_prev\u001b[38;5;241m.\u001b[39msize\u001b[38;5;241m.\u001b[39mwidth \u001b[38;5;241m==\u001b[39m side_next\u001b[38;5;241m.\u001b[39msize\u001b[38;5;241m.\u001b[39mwidth:\n\u001b[1;32m    138\u001b[0m         side_prev\u001b[38;5;241m.\u001b[39msize\u001b[38;5;241m.\u001b[39mheight \u001b[38;5;241m+\u001b[39m\u001b[38;5;241m=\u001b[39m side_next\u001b[38;5;241m.\u001b[39msize\u001b[38;5;241m.\u001b[39mheight\n",
            "File \u001b[0;32m~/Documents/Tesis/clp/src/algorithm/dblf.py:23\u001b[0m, in \u001b[0;36mDBLF.__getitem__\u001b[0;34m(self, index)\u001b[0m\n\u001b[1;32m     20\u001b[0m \u001b[38;5;28;01mdef\u001b[39;00m \u001b[38;5;21m__iter__\u001b[39m(\u001b[38;5;28mself\u001b[39m) \u001b[38;5;241m-\u001b[39m\u001b[38;5;241m>\u001b[39m Iterator[FreeSpace]:\n\u001b[1;32m     21\u001b[0m     \u001b[38;5;28;01mreturn\u001b[39;00m chain(\u001b[38;5;28mself\u001b[39m\u001b[38;5;241m.\u001b[39mside, \u001b[38;5;28mself\u001b[39m\u001b[38;5;241m.\u001b[39mtop, \u001b[38;5;28mself\u001b[39m\u001b[38;5;241m.\u001b[39mfront)\n\u001b[0;32m---> 23\u001b[0m \u001b[38;5;28;01mdef\u001b[39;00m \u001b[38;5;21m__getitem__\u001b[39m(\u001b[38;5;28mself\u001b[39m, index: \u001b[38;5;28mint\u001b[39m) \u001b[38;5;241m-\u001b[39m\u001b[38;5;241m>\u001b[39m FreeSpace:\n\u001b[1;32m     24\u001b[0m     \u001b[38;5;28;01mif\u001b[39;00m index \u001b[38;5;241m<\u001b[39m \u001b[38;5;28mlen\u001b[39m(\u001b[38;5;28mself\u001b[39m\u001b[38;5;241m.\u001b[39mside):\n\u001b[1;32m     25\u001b[0m         \u001b[38;5;28;01mreturn\u001b[39;00m \u001b[38;5;28mself\u001b[39m\u001b[38;5;241m.\u001b[39mside[index]\n",
            "\u001b[0;31mKeyboardInterrupt\u001b[0m: "
          ]
        },
        {
          "data": {
            "text/plain": [
              "<Figure size 800x600 with 0 Axes>"
            ]
          },
          "metadata": {},
          "output_type": "display_data"
        }
      ],
      "source": [
        "import random\n",
        "from matplotlib import pyplot as plt\n",
        "%matplotlib inline\n",
        "%config InlineBackend.figure_format = 'retina'\n",
        "plt.figure(figsize=(8, 6))  # Ajusta el tamaño de la figura\n",
        "\n",
        "from clp.src.algorithm.genetic_algorithm import GeneticAlgorithm\n",
        "from clp.src.algorithm.population import GroupImprovement, Population\n",
        "from clp.src.problems.problems import Problems\n",
        "from clp.src.graphic.draw_container import draw\n",
        "\n",
        "random.seed(0)\n",
        "problems = Problems('problems/types_30.json').load_problems()\n",
        "#problems = Problems('thpack7.txt').load_literature_problems()\n",
        "problem = problems[-1]\n",
        "population = Population(problem, GroupImprovement.late_all)\n",
        "individuals = population.generate_random_individuals(100)\n",
        "population.individuals = individuals\n",
        "population.evaluate()\n",
        "first_best_fitness = population.best.fitness\n",
        "\n",
        "ga = GeneticAlgorithm(population=population,\n",
        "                          MAX_DURATION=60,\n",
        "                          P_MUT_GEN=1/len(problem.box_types)\n",
        "                          )\n",
        "ga.start(first_best_fitness)\n",
        "\n",
        "b = ga.population.best\n",
        "print(b.fitness)\n",
        "print([r.box_count for r in b.genes])\n",
        "print([r.type.min_count for r in b.genes])\n",
        "print([r.type.max_count for r in b.genes])\n",
        "\n",
        "draw(b.result, '', problem.container)"
      ]
    },
    {
      "cell_type": "code",
      "execution_count": 4,
      "metadata": {},
      "outputs": [
        {
          "data": {
            "text/plain": [
              "(33078, 26, 0.7161582382553676, 486)"
            ]
          },
          "execution_count": 4,
          "metadata": {},
          "output_type": "execute_result"
        }
      ],
      "source": [
        "first_best_fitness"
      ]
    }
  ],
  "metadata": {
    "kernelspec": {
      "display_name": "venv",
      "language": "python",
      "name": "python3"
    },
    "language_info": {
      "codemirror_mode": {
        "name": "ipython",
        "version": 3
      },
      "file_extension": ".py",
      "mimetype": "text/x-python",
      "name": "python",
      "nbconvert_exporter": "python",
      "pygments_lexer": "ipython3",
      "version": "3.12.3"
    }
  },
  "nbformat": 4,
  "nbformat_minor": 2
}
