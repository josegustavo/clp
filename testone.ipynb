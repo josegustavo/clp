{
 "cells": [
  {
   "cell_type": "code",
   "execution_count": 7,
   "metadata": {},
   "outputs": [
    {
     "name": "stdout",
     "output_type": "stream",
     "text": [
      "(0.71, 660, 35842)\n",
      "[32, 40, 109, 21, 28, 44, 67, 52, 16, 69, 99, 56, 27, 0, 0, 0, 0, 0, 0, 0]\n",
      "[19, 27, 70, 15, 21, 39, 52, 29, 11, 45, 62, 51, 39, 8, 14, 10, 13, 25, 43, 13]\n",
      "[32, 44, 117, 22, 38, 55, 81, 78, 18, 82, 103, 56, 50, 22, 20, 20, 16, 37, 66, 25]\n",
      "[27, 2, 57, 94, 97, 19, 87, 70, 17, 98, 36, 34, 44, 85, 81, 42, 62, 10, 4, 67]\n"
     ]
    }
   ],
   "source": [
    "import json\n",
    "import random\n",
    "%matplotlib qt\n",
    "%config InlineBackend.figure_format = 'retina'\n",
    "from lcp.src.algorithm.population import GroupImprovement, Population\n",
    "from lcp.src.problems.problems import Problems\n",
    "from lcp.src.graphic.draw_container import draw\n",
    "\n",
    "random.seed(0)\n",
    "with open('problems/types_20.json', 'r') as f:\n",
    "    # Load JSON data from file\n",
    "    data = json.load(f)\n",
    "\n",
    "# problem = list(filter(lambda x: x['id'] == 'l3oc8lx9', data))[0]\n",
    "\n",
    "problems = Problems('problems/types_20.json').load_problems()\n",
    "problem = problems[-1]\n",
    "population = Population(problem, GroupImprovement.none)\\\n",
    "    .generate_random_individuals(100).evaluate()\n",
    "b = population.best\n",
    "print(b.fitness)\n",
    "print([r.box_count for r in b.genes])\n",
    "print([r.type.min_count for r in b.genes])\n",
    "print([r.type.max_count for r in b.genes])\n",
    "print([r.type.value_individual for r in b.genes])\n",
    "\n",
    "draw(b.result, '', problem.container)"
   ]
  },
  {
   "cell_type": "code",
   "execution_count": 4,
   "metadata": {},
   "outputs": [
    {
     "ename": "NameError",
     "evalue": "name 'b' is not defined",
     "output_type": "error",
     "traceback": [
      "\u001b[0;31m---------------------------------------------------------------------------\u001b[0m",
      "\u001b[0;31mNameError\u001b[0m                                 Traceback (most recent call last)",
      "Cell \u001b[0;32mIn[4], line 1\u001b[0m\n\u001b[0;32m----> 1\u001b[0m \u001b[43mb\u001b[49m\u001b[38;5;241m.\u001b[39mresult\n",
      "\u001b[0;31mNameError\u001b[0m: name 'b' is not defined"
     ]
    }
   ],
   "source": [
    "b.result"
   ]
  }
 ],
 "metadata": {
  "kernelspec": {
   "display_name": "venv",
   "language": "python",
   "name": "python3"
  },
  "language_info": {
   "codemirror_mode": {
    "name": "ipython",
    "version": 3
   },
   "file_extension": ".py",
   "mimetype": "text/x-python",
   "name": "python",
   "nbconvert_exporter": "python",
   "pygments_lexer": "ipython3",
   "version": "3.12.3"
  }
 },
 "nbformat": 4,
 "nbformat_minor": 2
}
